{
  "nbformat": 4,
  "nbformat_minor": 0,
  "metadata": {
    "colab": {
      "name": "kagglekaiwen.ipynb",
      "provenance": []
    },
    "kernelspec": {
      "name": "python3",
      "display_name": "Python 3"
    }
  },
  "cells": [
    {
      "cell_type": "code",
      "metadata": {
        "id": "uhgH_pYA0PfY",
        "colab_type": "code",
        "colab": {}
      },
      "source": [
        "import pandas as pd\n",
        "import numpy as np\n",
        "from sklearn import linear_model\n",
        "from sklearn.model_selection import KFold\n",
        "from sklearn.metrics import roc_auc_score\n",
        "from sklearn import ensemble\n",
        "import math"
      ],
      "execution_count": 0,
      "outputs": []
    },
    {
      "cell_type": "code",
      "metadata": {
        "id": "QSBndW070Su4",
        "colab_type": "code",
        "colab": {}
      },
      "source": [
        "def sigmoid(x):\n",
        "  return 1 / (1 + np.exp(-x))\n",
        "\n",
        "# Load the data\n",
        "train = pd.read_csv(\"train.csv\").drop(columns=['opened_position_qty ', 'closed_position_qty'])\n",
        "test = pd.read_csv(\"test.csv\").drop(columns=['opened_position_qty ', 'closed_position_qty'])\n",
        "\n",
        "#for i in ['last_price', 'mid', 'bid1', 'bid2', 'bid3', 'bid4', 'bid5', \\\n",
        "#          'ask1', 'ask2', 'ask3', 'ask4', 'ask5']:\n",
        "#  train[i] = train[i] - train[i].shift(1)\n",
        "\n",
        "train = train.drop(0)\n",
        "#df = pd.concat([train,test],sort=False)\n"
      ],
      "execution_count": 0,
      "outputs": []
    },
    {
      "cell_type": "code",
      "metadata": {
        "id": "XHESGgpLuEAR",
        "colab_type": "code",
        "outputId": "1c28f098-6d67-4aa7-9597-94d5808c490c",
        "colab": {
          "base_uri": "https://localhost:8080/",
          "height": 439
        }
      },
      "source": [
        "test"
      ],
      "execution_count": 0,
      "outputs": [
        {
          "output_type": "execute_result",
          "data": {
            "text/html": [
              "<div>\n",
              "<style scoped>\n",
              "    .dataframe tbody tr th:only-of-type {\n",
              "        vertical-align: middle;\n",
              "    }\n",
              "\n",
              "    .dataframe tbody tr th {\n",
              "        vertical-align: top;\n",
              "    }\n",
              "\n",
              "    .dataframe thead th {\n",
              "        text-align: right;\n",
              "    }\n",
              "</style>\n",
              "<table border=\"1\" class=\"dataframe\">\n",
              "  <thead>\n",
              "    <tr style=\"text-align: right;\">\n",
              "      <th></th>\n",
              "      <th>id</th>\n",
              "      <th>last_price</th>\n",
              "      <th>mid</th>\n",
              "      <th>transacted_qty</th>\n",
              "      <th>d_open_interest</th>\n",
              "      <th>bid1</th>\n",
              "      <th>bid2</th>\n",
              "      <th>bid3</th>\n",
              "      <th>bid4</th>\n",
              "      <th>bid5</th>\n",
              "      <th>ask1</th>\n",
              "      <th>ask2</th>\n",
              "      <th>ask3</th>\n",
              "      <th>ask4</th>\n",
              "      <th>ask5</th>\n",
              "      <th>bid1vol</th>\n",
              "      <th>bid2vol</th>\n",
              "      <th>bid3vol</th>\n",
              "      <th>bid4vol</th>\n",
              "      <th>bid5vol</th>\n",
              "      <th>ask1vol</th>\n",
              "      <th>ask2vol</th>\n",
              "      <th>ask3vol</th>\n",
              "      <th>ask4vol</th>\n",
              "      <th>ask5vol</th>\n",
              "    </tr>\n",
              "  </thead>\n",
              "  <tbody>\n",
              "    <tr>\n",
              "      <th>1918</th>\n",
              "      <td>594298</td>\n",
              "      <td>5069.8</td>\n",
              "      <td>5069.1</td>\n",
              "      <td>9.0</td>\n",
              "      <td>3</td>\n",
              "      <td>5068.6</td>\n",
              "      <td>5068.2</td>\n",
              "      <td>5068.0</td>\n",
              "      <td>5067.8</td>\n",
              "      <td>5067.6</td>\n",
              "      <td>5069.6</td>\n",
              "      <td>5070.0</td>\n",
              "      <td>5070.4</td>\n",
              "      <td>5070.6</td>\n",
              "      <td>5071.6</td>\n",
              "      <td>1</td>\n",
              "      <td>2</td>\n",
              "      <td>1</td>\n",
              "      <td>4</td>\n",
              "      <td>6</td>\n",
              "      <td>3</td>\n",
              "      <td>13</td>\n",
              "      <td>9</td>\n",
              "      <td>2</td>\n",
              "      <td>3</td>\n",
              "    </tr>\n",
              "    <tr>\n",
              "      <th>5311</th>\n",
              "      <td>597691</td>\n",
              "      <td>5069.4</td>\n",
              "      <td>5069.3</td>\n",
              "      <td>4.0</td>\n",
              "      <td>0</td>\n",
              "      <td>5069.2</td>\n",
              "      <td>5068.8</td>\n",
              "      <td>5068.6</td>\n",
              "      <td>5068.2</td>\n",
              "      <td>5068.0</td>\n",
              "      <td>5069.4</td>\n",
              "      <td>5069.6</td>\n",
              "      <td>5070.4</td>\n",
              "      <td>5070.6</td>\n",
              "      <td>5071.6</td>\n",
              "      <td>3</td>\n",
              "      <td>1</td>\n",
              "      <td>1</td>\n",
              "      <td>2</td>\n",
              "      <td>1</td>\n",
              "      <td>1</td>\n",
              "      <td>1</td>\n",
              "      <td>9</td>\n",
              "      <td>2</td>\n",
              "      <td>3</td>\n",
              "    </tr>\n",
              "    <tr>\n",
              "      <th>170971</th>\n",
              "      <td>763351</td>\n",
              "      <td>5069.6</td>\n",
              "      <td>5069.3</td>\n",
              "      <td>7.0</td>\n",
              "      <td>3</td>\n",
              "      <td>5068.8</td>\n",
              "      <td>5068.6</td>\n",
              "      <td>5068.2</td>\n",
              "      <td>5068.0</td>\n",
              "      <td>5067.8</td>\n",
              "      <td>5069.8</td>\n",
              "      <td>5070.0</td>\n",
              "      <td>5070.2</td>\n",
              "      <td>5070.4</td>\n",
              "      <td>5070.6</td>\n",
              "      <td>1</td>\n",
              "      <td>1</td>\n",
              "      <td>2</td>\n",
              "      <td>1</td>\n",
              "      <td>4</td>\n",
              "      <td>2</td>\n",
              "      <td>15</td>\n",
              "      <td>1</td>\n",
              "      <td>9</td>\n",
              "      <td>2</td>\n",
              "    </tr>\n",
              "    <tr>\n",
              "      <th>174444</th>\n",
              "      <td>766824</td>\n",
              "      <td>5069.8</td>\n",
              "      <td>5069.4</td>\n",
              "      <td>4.0</td>\n",
              "      <td>2</td>\n",
              "      <td>5069.0</td>\n",
              "      <td>5068.6</td>\n",
              "      <td>5068.4</td>\n",
              "      <td>5068.0</td>\n",
              "      <td>5067.6</td>\n",
              "      <td>5069.8</td>\n",
              "      <td>5070.0</td>\n",
              "      <td>5070.4</td>\n",
              "      <td>5070.6</td>\n",
              "      <td>5070.8</td>\n",
              "      <td>4</td>\n",
              "      <td>1</td>\n",
              "      <td>1</td>\n",
              "      <td>4</td>\n",
              "      <td>1</td>\n",
              "      <td>2</td>\n",
              "      <td>1</td>\n",
              "      <td>2</td>\n",
              "      <td>6</td>\n",
              "      <td>2</td>\n",
              "    </tr>\n",
              "    <tr>\n",
              "      <th>179309</th>\n",
              "      <td>771689</td>\n",
              "      <td>5070.6</td>\n",
              "      <td>5069.5</td>\n",
              "      <td>7.0</td>\n",
              "      <td>6</td>\n",
              "      <td>5069.2</td>\n",
              "      <td>5069.0</td>\n",
              "      <td>5068.6</td>\n",
              "      <td>5068.0</td>\n",
              "      <td>5067.6</td>\n",
              "      <td>5069.8</td>\n",
              "      <td>5070.6</td>\n",
              "      <td>5070.8</td>\n",
              "      <td>5071.0</td>\n",
              "      <td>5071.4</td>\n",
              "      <td>1</td>\n",
              "      <td>3</td>\n",
              "      <td>1</td>\n",
              "      <td>3</td>\n",
              "      <td>2</td>\n",
              "      <td>1</td>\n",
              "      <td>3</td>\n",
              "      <td>2</td>\n",
              "      <td>7</td>\n",
              "      <td>2</td>\n",
              "    </tr>\n",
              "    <tr>\n",
              "      <th>...</th>\n",
              "      <td>...</td>\n",
              "      <td>...</td>\n",
              "      <td>...</td>\n",
              "      <td>...</td>\n",
              "      <td>...</td>\n",
              "      <td>...</td>\n",
              "      <td>...</td>\n",
              "      <td>...</td>\n",
              "      <td>...</td>\n",
              "      <td>...</td>\n",
              "      <td>...</td>\n",
              "      <td>...</td>\n",
              "      <td>...</td>\n",
              "      <td>...</td>\n",
              "      <td>...</td>\n",
              "      <td>...</td>\n",
              "      <td>...</td>\n",
              "      <td>...</td>\n",
              "      <td>...</td>\n",
              "      <td>...</td>\n",
              "      <td>...</td>\n",
              "      <td>...</td>\n",
              "      <td>...</td>\n",
              "      <td>...</td>\n",
              "      <td>...</td>\n",
              "    </tr>\n",
              "    <tr>\n",
              "      <th>188422</th>\n",
              "      <td>780802</td>\n",
              "      <td>5277.4</td>\n",
              "      <td>5277.9</td>\n",
              "      <td>21.0</td>\n",
              "      <td>9</td>\n",
              "      <td>5276.8</td>\n",
              "      <td>5276.6</td>\n",
              "      <td>5276.4</td>\n",
              "      <td>5276.0</td>\n",
              "      <td>5275.6</td>\n",
              "      <td>5279.0</td>\n",
              "      <td>5279.2</td>\n",
              "      <td>5279.6</td>\n",
              "      <td>5279.8</td>\n",
              "      <td>5280.0</td>\n",
              "      <td>1</td>\n",
              "      <td>4</td>\n",
              "      <td>1</td>\n",
              "      <td>1</td>\n",
              "      <td>21</td>\n",
              "      <td>4</td>\n",
              "      <td>2</td>\n",
              "      <td>1</td>\n",
              "      <td>3</td>\n",
              "      <td>11</td>\n",
              "    </tr>\n",
              "    <tr>\n",
              "      <th>185615</th>\n",
              "      <td>777995</td>\n",
              "      <td>5278.6</td>\n",
              "      <td>5278.1</td>\n",
              "      <td>2.0</td>\n",
              "      <td>0</td>\n",
              "      <td>5277.8</td>\n",
              "      <td>5277.6</td>\n",
              "      <td>5277.4</td>\n",
              "      <td>5277.2</td>\n",
              "      <td>5276.8</td>\n",
              "      <td>5278.4</td>\n",
              "      <td>5278.8</td>\n",
              "      <td>5279.0</td>\n",
              "      <td>5279.2</td>\n",
              "      <td>5279.6</td>\n",
              "      <td>2</td>\n",
              "      <td>1</td>\n",
              "      <td>1</td>\n",
              "      <td>12</td>\n",
              "      <td>2</td>\n",
              "      <td>3</td>\n",
              "      <td>4</td>\n",
              "      <td>4</td>\n",
              "      <td>2</td>\n",
              "      <td>1</td>\n",
              "    </tr>\n",
              "    <tr>\n",
              "      <th>26322</th>\n",
              "      <td>618702</td>\n",
              "      <td>5278.8</td>\n",
              "      <td>5278.2</td>\n",
              "      <td>26.0</td>\n",
              "      <td>18</td>\n",
              "      <td>5277.4</td>\n",
              "      <td>5277.0</td>\n",
              "      <td>5276.8</td>\n",
              "      <td>5276.6</td>\n",
              "      <td>5276.4</td>\n",
              "      <td>5279.0</td>\n",
              "      <td>5279.2</td>\n",
              "      <td>5279.6</td>\n",
              "      <td>5279.8</td>\n",
              "      <td>5280.0</td>\n",
              "      <td>1</td>\n",
              "      <td>9</td>\n",
              "      <td>2</td>\n",
              "      <td>4</td>\n",
              "      <td>1</td>\n",
              "      <td>16</td>\n",
              "      <td>2</td>\n",
              "      <td>2</td>\n",
              "      <td>4</td>\n",
              "      <td>11</td>\n",
              "    </tr>\n",
              "    <tr>\n",
              "      <th>146184</th>\n",
              "      <td>738564</td>\n",
              "      <td>5278.4</td>\n",
              "      <td>5278.2</td>\n",
              "      <td>8.0</td>\n",
              "      <td>1</td>\n",
              "      <td>5277.8</td>\n",
              "      <td>5277.4</td>\n",
              "      <td>5277.2</td>\n",
              "      <td>5276.8</td>\n",
              "      <td>5276.6</td>\n",
              "      <td>5278.6</td>\n",
              "      <td>5278.8</td>\n",
              "      <td>5279.0</td>\n",
              "      <td>5279.2</td>\n",
              "      <td>5279.6</td>\n",
              "      <td>1</td>\n",
              "      <td>1</td>\n",
              "      <td>5</td>\n",
              "      <td>2</td>\n",
              "      <td>3</td>\n",
              "      <td>1</td>\n",
              "      <td>4</td>\n",
              "      <td>4</td>\n",
              "      <td>2</td>\n",
              "      <td>1</td>\n",
              "    </tr>\n",
              "    <tr>\n",
              "      <th>107438</th>\n",
              "      <td>699818</td>\n",
              "      <td>5278.6</td>\n",
              "      <td>5278.7</td>\n",
              "      <td>27.0</td>\n",
              "      <td>13</td>\n",
              "      <td>5278.6</td>\n",
              "      <td>5277.8</td>\n",
              "      <td>5277.6</td>\n",
              "      <td>5277.4</td>\n",
              "      <td>5277.2</td>\n",
              "      <td>5278.8</td>\n",
              "      <td>5279.0</td>\n",
              "      <td>5279.2</td>\n",
              "      <td>5279.6</td>\n",
              "      <td>5279.8</td>\n",
              "      <td>2</td>\n",
              "      <td>2</td>\n",
              "      <td>11</td>\n",
              "      <td>2</td>\n",
              "      <td>1</td>\n",
              "      <td>1</td>\n",
              "      <td>1</td>\n",
              "      <td>2</td>\n",
              "      <td>2</td>\n",
              "      <td>4</td>\n",
              "    </tr>\n",
              "  </tbody>\n",
              "</table>\n",
              "<p>191859 rows × 25 columns</p>\n",
              "</div>"
            ],
            "text/plain": [
              "            id  last_price     mid  ...  ask3vol  ask4vol  ask5vol\n",
              "1918    594298      5069.8  5069.1  ...        9        2        3\n",
              "5311    597691      5069.4  5069.3  ...        9        2        3\n",
              "170971  763351      5069.6  5069.3  ...        1        9        2\n",
              "174444  766824      5069.8  5069.4  ...        2        6        2\n",
              "179309  771689      5070.6  5069.5  ...        2        7        2\n",
              "...        ...         ...     ...  ...      ...      ...      ...\n",
              "188422  780802      5277.4  5277.9  ...        1        3       11\n",
              "185615  777995      5278.6  5278.1  ...        4        2        1\n",
              "26322   618702      5278.8  5278.2  ...        2        4       11\n",
              "146184  738564      5278.4  5278.2  ...        4        2        1\n",
              "107438  699818      5278.6  5278.7  ...        2        2        4\n",
              "\n",
              "[191859 rows x 25 columns]"
            ]
          },
          "metadata": {
            "tags": []
          },
          "execution_count": 265
        }
      ]
    },
    {
      "cell_type": "code",
      "metadata": {
        "id": "93H96mjNtBhO",
        "colab_type": "code",
        "outputId": "c522c836-f2ca-4260-82d1-a167496efb9c",
        "colab": {
          "base_uri": "https://localhost:8080/",
          "height": 282
        }
      },
      "source": [
        "test['mid'].hist(bins = 50)"
      ],
      "execution_count": 0,
      "outputs": [
        {
          "output_type": "execute_result",
          "data": {
            "text/plain": [
              "<matplotlib.axes._subplots.AxesSubplot at 0x7f7feb9f2f28>"
            ]
          },
          "metadata": {
            "tags": []
          },
          "execution_count": 258
        },
        {
          "output_type": "display_data",
          "data": {
            "image/png": "[encoded data removed]",
            "text/plain": [
              "<Figure size 432x288 with 1 Axes>"
            ]
          },
          "metadata": {
            "tags": []
          }
        }
      ]
    },
    {
      "cell_type": "code",
      "metadata": {
        "id": "dDXH00hUtaJW",
        "colab_type": "code",
        "outputId": "8d41c20d-20df-41f2-8c2d-b655171037db",
        "colab": {
          "base_uri": "https://localhost:8080/",
          "height": 282
        }
      },
      "source": [
        "test = test.sort_values(by=['mid'])\n",
        "i = 0\n",
        "batch = int(len(test)/400)\n",
        "while i < len(test):\n",
        "  test[i:i + batch] = np.random.permutation(test[i:i + batch])\n",
        "  i = i + batch\n",
        "\n",
        "pd.DataFrame(test['mid'].to_numpy()).plot()"
      ],
      "execution_count": 0,
      "outputs": [
        {
          "output_type": "execute_result",
          "data": {
            "text/plain": [
              "<matplotlib.axes._subplots.AxesSubplot at 0x7f7feab545c0>"
            ]
          },
          "metadata": {
            "tags": []
          },
          "execution_count": 278
        },
        {
          "output_type": "display_data",
          "data": {
            "image/png": "[encoded data removed]",
            "text/plain": [
              "<Figure size 432x288 with 1 Axes>"
            ]
          },
          "metadata": {
            "tags": []
          }
        }
      ]
    },
    {
      "cell_type": "code",
      "metadata": {
        "id": "KmGjRvmomvVr",
        "colab_type": "code",
        "colab": {}
      },
      "source": [
        "test = test.sort_values(by=['mid'])\n",
        "\n",
        "for i in ['last_price', 'mid', 'bid1', 'bid2', 'bid3', 'bid4', 'bid5', \\\n",
        "            'ask1', 'ask2', 'ask3', 'ask4', 'ask5']:\n",
        "    test[i] = test[i] - test[i].shift(1)\n",
        "\n",
        "test = test.drop(test.index[0])\n",
        "\n",
        "i = 0\n",
        "batch = int(len(test)/40)\n",
        "while i < len(test):\n",
        "  test[i:i + batch] = np.random.permutation(test[i:i + batch])\n",
        "  i = i + batch"
      ],
      "execution_count": 0,
      "outputs": []
    },
    {
      "cell_type": "code",
      "metadata": {
        "id": "PPy_kCEvUPhW",
        "colab_type": "code",
        "outputId": "2afdc73b-57f8-4a96-9524-10484797f18a",
        "colab": {
          "base_uri": "https://localhost:8080/",
          "height": 282
        }
      },
      "source": [
        "test['mid'].hist(bins = 50)"
      ],
      "execution_count": 0,
      "outputs": [
        {
          "output_type": "execute_result",
          "data": {
            "text/plain": [
              "<matplotlib.axes._subplots.AxesSubplot at 0x7f7feb7dd780>"
            ]
          },
          "metadata": {
            "tags": []
          },
          "execution_count": 256
        },
        {
          "output_type": "display_data",
          "data": {
            "image/png": "[encoded data removed]",
            "text/plain": [
              "<Figure size 432x288 with 1 Axes>"
            ]
          },
          "metadata": {
            "tags": []
          }
        }
      ]
    },
    {
      "cell_type": "code",
      "metadata": {
        "id": "ItT5JbNpX7rH",
        "colab_type": "code",
        "outputId": "f93c65b6-5aa6-4c3a-89a9-71310dc36170",
        "colab": {
          "base_uri": "https://localhost:8080/",
          "height": 282
        }
      },
      "source": [
        "train['mid'].hist(bins=50)"
      ],
      "execution_count": 0,
      "outputs": [
        {
          "output_type": "execute_result",
          "data": {
            "text/plain": [
              "<matplotlib.axes._subplots.AxesSubplot at 0x7f7febc9b978>"
            ]
          },
          "metadata": {
            "tags": []
          },
          "execution_count": 203
        },
        {
          "output_type": "display_data",
          "data": {
            "image/png": "[encoded data removed]",
            "text/plain": [
              "<Figure size 432x288 with 1 Axes>"
            ]
          },
          "metadata": {
            "tags": []
          }
        }
      ]
    },
    {
      "cell_type": "code",
      "metadata": {
        "id": "CSb3S5vEYD7a",
        "colab_type": "code",
        "outputId": "9dec235c-ce8c-4950-b41f-6c7475b75952",
        "colab": {
          "base_uri": "https://localhost:8080/",
          "height": 282
        }
      },
      "source": [
        "train['mid'].plot()"
      ],
      "execution_count": 0,
      "outputs": [
        {
          "output_type": "execute_result",
          "data": {
            "text/plain": [
              "<matplotlib.axes._subplots.AxesSubplot at 0x7f7fea7fc550>"
            ]
          },
          "metadata": {
            "tags": []
          },
          "execution_count": 283
        },
        {
          "output_type": "display_data",
          "data": {
            "image/png": "[encoded data removed]",
            "text/plain": [
              "<Figure size 432x288 with 1 Axes>"
            ]
          },
          "metadata": {
            "tags": []
          }
        }
      ]
    },
    {
      "cell_type": "code",
      "metadata": {
        "id": "Qa6vQlm2xE3j",
        "colab_type": "code",
        "outputId": "0e745dad-70a2-4264-b9e6-d5b6db06717a",
        "colab": {
          "base_uri": "https://localhost:8080/",
          "height": 282
        }
      },
      "source": [
        "train['mid'][310000:410000].hist(bins=50)"
      ],
      "execution_count": 0,
      "outputs": [
        {
          "output_type": "execute_result",
          "data": {
            "text/plain": [
              "<matplotlib.axes._subplots.AxesSubplot at 0x7f7fea2d7128>"
            ]
          },
          "metadata": {
            "tags": []
          },
          "execution_count": 290
        },
        {
          "output_type": "display_data",
          "data": {
            "image/png": "[encoded data removed]",
            "text/plain": [
              "<Figure size 432x288 with 1 Axes>"
            ]
          },
          "metadata": {
            "tags": []
          }
        }
      ]
    },
    {
      "cell_type": "code",
      "metadata": {
        "id": "8sWuiAbP0fs6",
        "colab_type": "code",
        "colab": {}
      },
      "source": [
        "train = df.loc[~df.y.isna()].fillna(0)\n",
        "test = df.loc[df.y.isna()].drop(columns=['id', 'y'])\n",
        "\n",
        "train_y = train.y\n",
        "train_x = train.drop(columns=['id', 'y'])"
      ],
      "execution_count": 0,
      "outputs": []
    },
    {
      "cell_type": "code",
      "metadata": {
        "id": "u3m45lNOWBb7",
        "colab_type": "code",
        "outputId": "faf50f01-090f-4450-ab91-99e7668e4b41",
        "colab": {
          "base_uri": "https://localhost:8080/",
          "height": 439
        }
      },
      "source": [
        "test"
      ],
      "execution_count": 0,
      "outputs": [
        {
          "output_type": "execute_result",
          "data": {
            "text/html": [
              "<div>\n",
              "<style scoped>\n",
              "    .dataframe tbody tr th:only-of-type {\n",
              "        vertical-align: middle;\n",
              "    }\n",
              "\n",
              "    .dataframe tbody tr th {\n",
              "        vertical-align: top;\n",
              "    }\n",
              "\n",
              "    .dataframe thead th {\n",
              "        text-align: right;\n",
              "    }\n",
              "</style>\n",
              "<table border=\"1\" class=\"dataframe\">\n",
              "  <thead>\n",
              "    <tr style=\"text-align: right;\">\n",
              "      <th></th>\n",
              "      <th>last_price</th>\n",
              "      <th>mid</th>\n",
              "      <th>transacted_qty</th>\n",
              "      <th>d_open_interest</th>\n",
              "      <th>bid1</th>\n",
              "      <th>bid2</th>\n",
              "      <th>bid3</th>\n",
              "      <th>bid4</th>\n",
              "      <th>bid5</th>\n",
              "      <th>ask1</th>\n",
              "      <th>ask2</th>\n",
              "      <th>ask3</th>\n",
              "      <th>ask4</th>\n",
              "      <th>ask5</th>\n",
              "      <th>bid1vol</th>\n",
              "      <th>bid2vol</th>\n",
              "      <th>bid3vol</th>\n",
              "      <th>bid4vol</th>\n",
              "      <th>bid5vol</th>\n",
              "      <th>ask1vol</th>\n",
              "      <th>ask2vol</th>\n",
              "      <th>ask3vol</th>\n",
              "      <th>ask4vol</th>\n",
              "      <th>ask5vol</th>\n",
              "    </tr>\n",
              "  </thead>\n",
              "  <tbody>\n",
              "    <tr>\n",
              "      <th>1</th>\n",
              "      <td>-45.4</td>\n",
              "      <td>-45.4</td>\n",
              "      <td>1.0</td>\n",
              "      <td>1</td>\n",
              "      <td>-45.4</td>\n",
              "      <td>-45.4</td>\n",
              "      <td>-45.4</td>\n",
              "      <td>-45.4</td>\n",
              "      <td>-45.4</td>\n",
              "      <td>-45.4</td>\n",
              "      <td>-45.4</td>\n",
              "      <td>-45.0</td>\n",
              "      <td>-45.0</td>\n",
              "      <td>-45.6</td>\n",
              "      <td>1</td>\n",
              "      <td>2</td>\n",
              "      <td>2</td>\n",
              "      <td>1</td>\n",
              "      <td>10</td>\n",
              "      <td>4</td>\n",
              "      <td>8</td>\n",
              "      <td>1</td>\n",
              "      <td>1</td>\n",
              "      <td>1</td>\n",
              "    </tr>\n",
              "    <tr>\n",
              "      <th>2</th>\n",
              "      <td>44.4</td>\n",
              "      <td>45.1</td>\n",
              "      <td>2.0</td>\n",
              "      <td>2</td>\n",
              "      <td>44.4</td>\n",
              "      <td>44.2</td>\n",
              "      <td>44.2</td>\n",
              "      <td>44.2</td>\n",
              "      <td>44.0</td>\n",
              "      <td>45.8</td>\n",
              "      <td>45.8</td>\n",
              "      <td>45.4</td>\n",
              "      <td>45.4</td>\n",
              "      <td>45.4</td>\n",
              "      <td>8</td>\n",
              "      <td>18</td>\n",
              "      <td>1</td>\n",
              "      <td>1</td>\n",
              "      <td>6</td>\n",
              "      <td>7</td>\n",
              "      <td>4</td>\n",
              "      <td>1</td>\n",
              "      <td>2</td>\n",
              "      <td>5</td>\n",
              "    </tr>\n",
              "    <tr>\n",
              "      <th>3</th>\n",
              "      <td>-83.8</td>\n",
              "      <td>-84.1</td>\n",
              "      <td>2.0</td>\n",
              "      <td>-1</td>\n",
              "      <td>-84.0</td>\n",
              "      <td>-83.8</td>\n",
              "      <td>-83.8</td>\n",
              "      <td>-84.2</td>\n",
              "      <td>-84.0</td>\n",
              "      <td>-84.2</td>\n",
              "      <td>-84.2</td>\n",
              "      <td>-84.2</td>\n",
              "      <td>-84.2</td>\n",
              "      <td>-84.2</td>\n",
              "      <td>8</td>\n",
              "      <td>5</td>\n",
              "      <td>4</td>\n",
              "      <td>3</td>\n",
              "      <td>1</td>\n",
              "      <td>1</td>\n",
              "      <td>1</td>\n",
              "      <td>11</td>\n",
              "      <td>6</td>\n",
              "      <td>2</td>\n",
              "    </tr>\n",
              "    <tr>\n",
              "      <th>4</th>\n",
              "      <td>95.6</td>\n",
              "      <td>95.3</td>\n",
              "      <td>0.0</td>\n",
              "      <td>0</td>\n",
              "      <td>95.6</td>\n",
              "      <td>95.6</td>\n",
              "      <td>95.6</td>\n",
              "      <td>96.0</td>\n",
              "      <td>96.0</td>\n",
              "      <td>95.0</td>\n",
              "      <td>95.8</td>\n",
              "      <td>95.8</td>\n",
              "      <td>95.8</td>\n",
              "      <td>95.8</td>\n",
              "      <td>1</td>\n",
              "      <td>5</td>\n",
              "      <td>1</td>\n",
              "      <td>3</td>\n",
              "      <td>3</td>\n",
              "      <td>3</td>\n",
              "      <td>2</td>\n",
              "      <td>1</td>\n",
              "      <td>3</td>\n",
              "      <td>4</td>\n",
              "    </tr>\n",
              "    <tr>\n",
              "      <th>5</th>\n",
              "      <td>-10.0</td>\n",
              "      <td>-9.7</td>\n",
              "      <td>3.0</td>\n",
              "      <td>2</td>\n",
              "      <td>-9.4</td>\n",
              "      <td>-9.4</td>\n",
              "      <td>-9.4</td>\n",
              "      <td>-9.4</td>\n",
              "      <td>-9.8</td>\n",
              "      <td>-10.0</td>\n",
              "      <td>-10.6</td>\n",
              "      <td>-10.2</td>\n",
              "      <td>-10.0</td>\n",
              "      <td>-10.0</td>\n",
              "      <td>1</td>\n",
              "      <td>1</td>\n",
              "      <td>1</td>\n",
              "      <td>3</td>\n",
              "      <td>1</td>\n",
              "      <td>1</td>\n",
              "      <td>1</td>\n",
              "      <td>3</td>\n",
              "      <td>1</td>\n",
              "      <td>2</td>\n",
              "    </tr>\n",
              "    <tr>\n",
              "      <th>...</th>\n",
              "      <td>...</td>\n",
              "      <td>...</td>\n",
              "      <td>...</td>\n",
              "      <td>...</td>\n",
              "      <td>...</td>\n",
              "      <td>...</td>\n",
              "      <td>...</td>\n",
              "      <td>...</td>\n",
              "      <td>...</td>\n",
              "      <td>...</td>\n",
              "      <td>...</td>\n",
              "      <td>...</td>\n",
              "      <td>...</td>\n",
              "      <td>...</td>\n",
              "      <td>...</td>\n",
              "      <td>...</td>\n",
              "      <td>...</td>\n",
              "      <td>...</td>\n",
              "      <td>...</td>\n",
              "      <td>...</td>\n",
              "      <td>...</td>\n",
              "      <td>...</td>\n",
              "      <td>...</td>\n",
              "      <td>...</td>\n",
              "    </tr>\n",
              "    <tr>\n",
              "      <th>191854</th>\n",
              "      <td>-28.6</td>\n",
              "      <td>-27.8</td>\n",
              "      <td>0.0</td>\n",
              "      <td>0</td>\n",
              "      <td>-27.6</td>\n",
              "      <td>-27.6</td>\n",
              "      <td>-27.6</td>\n",
              "      <td>-27.4</td>\n",
              "      <td>-27.2</td>\n",
              "      <td>-28.0</td>\n",
              "      <td>-27.8</td>\n",
              "      <td>-27.8</td>\n",
              "      <td>-27.6</td>\n",
              "      <td>-27.4</td>\n",
              "      <td>1</td>\n",
              "      <td>5</td>\n",
              "      <td>3</td>\n",
              "      <td>4</td>\n",
              "      <td>2</td>\n",
              "      <td>1</td>\n",
              "      <td>3</td>\n",
              "      <td>1</td>\n",
              "      <td>3</td>\n",
              "      <td>2</td>\n",
              "    </tr>\n",
              "    <tr>\n",
              "      <th>191855</th>\n",
              "      <td>-28.0</td>\n",
              "      <td>-28.1</td>\n",
              "      <td>3.0</td>\n",
              "      <td>-1</td>\n",
              "      <td>-28.0</td>\n",
              "      <td>-28.0</td>\n",
              "      <td>-28.0</td>\n",
              "      <td>-28.2</td>\n",
              "      <td>-28.2</td>\n",
              "      <td>-28.2</td>\n",
              "      <td>-28.4</td>\n",
              "      <td>-28.4</td>\n",
              "      <td>-28.6</td>\n",
              "      <td>-28.8</td>\n",
              "      <td>3</td>\n",
              "      <td>1</td>\n",
              "      <td>5</td>\n",
              "      <td>1</td>\n",
              "      <td>20</td>\n",
              "      <td>16</td>\n",
              "      <td>17</td>\n",
              "      <td>4</td>\n",
              "      <td>1</td>\n",
              "      <td>16</td>\n",
              "    </tr>\n",
              "    <tr>\n",
              "      <th>191856</th>\n",
              "      <td>70.2</td>\n",
              "      <td>69.6</td>\n",
              "      <td>0.0</td>\n",
              "      <td>0</td>\n",
              "      <td>69.4</td>\n",
              "      <td>69.4</td>\n",
              "      <td>69.0</td>\n",
              "      <td>68.6</td>\n",
              "      <td>68.6</td>\n",
              "      <td>69.8</td>\n",
              "      <td>69.8</td>\n",
              "      <td>69.8</td>\n",
              "      <td>69.8</td>\n",
              "      <td>69.8</td>\n",
              "      <td>1</td>\n",
              "      <td>2</td>\n",
              "      <td>1</td>\n",
              "      <td>1</td>\n",
              "      <td>1</td>\n",
              "      <td>1</td>\n",
              "      <td>2</td>\n",
              "      <td>1</td>\n",
              "      <td>2</td>\n",
              "      <td>1</td>\n",
              "    </tr>\n",
              "    <tr>\n",
              "      <th>191857</th>\n",
              "      <td>-40.8</td>\n",
              "      <td>-40.4</td>\n",
              "      <td>6.0</td>\n",
              "      <td>2</td>\n",
              "      <td>-40.2</td>\n",
              "      <td>-40.2</td>\n",
              "      <td>-39.8</td>\n",
              "      <td>-39.2</td>\n",
              "      <td>-39.2</td>\n",
              "      <td>-40.6</td>\n",
              "      <td>-40.6</td>\n",
              "      <td>-40.6</td>\n",
              "      <td>-40.6</td>\n",
              "      <td>-40.6</td>\n",
              "      <td>4</td>\n",
              "      <td>5</td>\n",
              "      <td>6</td>\n",
              "      <td>8</td>\n",
              "      <td>37</td>\n",
              "      <td>7</td>\n",
              "      <td>1</td>\n",
              "      <td>2</td>\n",
              "      <td>1</td>\n",
              "      <td>1</td>\n",
              "    </tr>\n",
              "    <tr>\n",
              "      <th>191858</th>\n",
              "      <td>48.0</td>\n",
              "      <td>48.4</td>\n",
              "      <td>2.0</td>\n",
              "      <td>2</td>\n",
              "      <td>48.2</td>\n",
              "      <td>47.4</td>\n",
              "      <td>47.4</td>\n",
              "      <td>47.4</td>\n",
              "      <td>47.2</td>\n",
              "      <td>48.6</td>\n",
              "      <td>48.6</td>\n",
              "      <td>48.8</td>\n",
              "      <td>48.8</td>\n",
              "      <td>48.8</td>\n",
              "      <td>4</td>\n",
              "      <td>5</td>\n",
              "      <td>1</td>\n",
              "      <td>2</td>\n",
              "      <td>1</td>\n",
              "      <td>1</td>\n",
              "      <td>1</td>\n",
              "      <td>4</td>\n",
              "      <td>1</td>\n",
              "      <td>3</td>\n",
              "    </tr>\n",
              "  </tbody>\n",
              "</table>\n",
              "<p>191858 rows × 24 columns</p>\n",
              "</div>"
            ],
            "text/plain": [
              "        last_price   mid  transacted_qty  ...  ask3vol  ask4vol  ask5vol\n",
              "1            -45.4 -45.4             1.0  ...        1        1        1\n",
              "2             44.4  45.1             2.0  ...        1        2        5\n",
              "3            -83.8 -84.1             2.0  ...       11        6        2\n",
              "4             95.6  95.3             0.0  ...        1        3        4\n",
              "5            -10.0  -9.7             3.0  ...        3        1        2\n",
              "...            ...   ...             ...  ...      ...      ...      ...\n",
              "191854       -28.6 -27.8             0.0  ...        1        3        2\n",
              "191855       -28.0 -28.1             3.0  ...        4        1       16\n",
              "191856        70.2  69.6             0.0  ...        1        2        1\n",
              "191857       -40.8 -40.4             6.0  ...        2        1        1\n",
              "191858        48.0  48.4             2.0  ...        4        1        3\n",
              "\n",
              "[191858 rows x 24 columns]"
            ]
          },
          "metadata": {
            "tags": []
          },
          "execution_count": 213
        }
      ]
    },
    {
      "cell_type": "code",
      "metadata": {
        "id": "34-LyCEH0nV6",
        "colab_type": "code",
        "colab": {}
      },
      "source": [
        "num_folds = 10\n",
        "kf = KFold(n_splits = num_folds)\n",
        "r1 = linear_model.Ridge()\n",
        "r2 = linear_model.Lasso()\n",
        "r3 = linear_model.BayesianRidge()\n",
        "r4 = linear_model.OrthogonalMatchingPursuit()\n",
        "r5 = linear_model.PassiveAggressiveRegressor()\n",
        "r6 = linear_model.ElasticNet()\n",
        "r7 = ensemble.AdaBoostRegressor()\n",
        "# er = ensemble.StackingRegressor([('ridge', r1), ('lasso', r2), ('bayes', r3), ('omp', r4), ('par', r5), ('enet', r6)])\n",
        "er = ensemble.StackingRegressor([('ridge', r1), ('adaboost', r7)])\n",
        "train_errors = []\n",
        "test_scores = []"
      ],
      "execution_count": 0,
      "outputs": []
    },
    {
      "cell_type": "code",
      "metadata": {
        "id": "VsXx8G8S0tmD",
        "colab_type": "code",
        "outputId": "d8995168-3926-4232-bc06-3fc854b413f7",
        "colab": {
          "base_uri": "https://localhost:8080/",
          "height": 357
        }
      },
      "source": [
        "# Iterate over each fold\n",
        "\n",
        "data = train_x.to_numpy()\n",
        "labels = train_y.to_numpy()\n",
        "for train_index, test_index in kf.split(data):\n",
        "    x_train, x_test = data[train_index], data[test_index]\n",
        "    y_train, y_test = labels[train_index], labels[test_index]\n",
        "    \n",
        "    # Fit the training data\n",
        "    er.fit(x_train, y_train)\n",
        "\n",
        "    print(\".\")\n",
        "    \n",
        "    # Calculate the training error for this fold\n",
        "    train_prediction = er.predict(x_train)\n",
        "    train_error = 0\n",
        "    for i in range(y_train.size):\n",
        "        train_error += ((y_train[i] - train_prediction[i]) ** 2)\n",
        "        \n",
        "    # Calculate the validation score for this fold\n",
        "    vscore = roc_auc_score(y_test, sigmoid(er.predict(x_test)))\n",
        "    print(\"Val score this fold: {}\".format(vscore))\n",
        "        \n",
        "    train_errors.append(train_error / y_train.size)\n",
        "    test_scores.append(vscore)"
      ],
      "execution_count": 0,
      "outputs": [
        {
          "output_type": "stream",
          "text": [
            ".\n",
            "Val score this fold: 0.6443601171273128\n",
            ".\n",
            "Val score this fold: 0.6556392259055529\n",
            ".\n",
            "Val score this fold: 0.6560228691918747\n",
            ".\n",
            "Val score this fold: 0.6641219595820363\n",
            ".\n",
            "Val score this fold: 0.6593985087916744\n",
            ".\n",
            "Val score this fold: 0.6503902206815324\n",
            ".\n",
            "Val score this fold: 0.6550560860348237\n",
            ".\n",
            "Val score this fold: 0.6542918544439451\n",
            ".\n",
            "Val score this fold: 0.6503429191131394\n",
            ".\n",
            "Val score this fold: 0.6373881749097032\n"
          ],
          "name": "stdout"
        }
      ]
    },
    {
      "cell_type": "code",
      "metadata": {
        "id": "aALGRd912vgb",
        "colab_type": "code",
        "outputId": "33a0491e-5bfa-4565-f518-fd3948c1a5f7",
        "colab": {
          "base_uri": "https://localhost:8080/",
          "height": 51
        }
      },
      "source": [
        "print(\"The average training error is {}\".format(np.mean(train_errors)))\n",
        "print(\"The average test score is {}\".format(np.mean(test_scores)))\n",
        "# The average test score is 0.656851095648564 with shuffling of data\n",
        "\n",
        "test_x = test.to_numpy()\n",
        "predictions = pd.DataFrame(sigmoid(er.predict(test_x)))\n",
        "predictions.to_csv('submission.csv')"
      ],
      "execution_count": 0,
      "outputs": [
        {
          "output_type": "stream",
          "text": [
            "The average training error is 0.21449089792750295\n",
            "The average test score is 0.6527011935781595\n"
          ],
          "name": "stdout"
        }
      ]
    },
    {
      "cell_type": "code",
      "metadata": {
        "id": "boXPmufd_8zW",
        "colab_type": "code",
        "colab": {}
      },
      "source": [
        ""
      ],
      "execution_count": 0,
      "outputs": []
    }
  ]
}